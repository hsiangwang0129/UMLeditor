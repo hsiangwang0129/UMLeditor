{
  "nbformat": 4,
  "nbformat_minor": 0,
  "metadata": {
    "colab": {
      "provenance": [],
      "include_colab_link": true
    },
    "kernelspec": {
      "name": "python3",
      "display_name": "Python 3"
    },
    "language_info": {
      "name": "python"
    }
  },
  "cells": [
    {
      "cell_type": "markdown",
      "metadata": {
        "id": "view-in-github",
        "colab_type": "text"
      },
      "source": [
        "<a href=\"https://colab.research.google.com/github/hsiangwang0129/UMLeditor/blob/main/YOLOv5_Lab2_Maskt_Detection_English_withyoloformat_forstudent.ipynb\" target=\"_parent\"><img src=\"https://colab.research.google.com/assets/colab-badge.svg\" alt=\"Open In Colab\"/></a>"
      ]
    },
    {
      "cell_type": "code",
      "execution_count": null,
      "metadata": {
        "id": "ZrTIAy7lHV3S"
      },
      "outputs": [],
      "source": [
        "!nvidia-smi"
      ]
    },
    {
      "cell_type": "markdown",
      "source": [
        "# **View Training Dataset**"
      ],
      "metadata": {
        "id": "ziacpUTCyPlr"
      }
    },
    {
      "cell_type": "code",
      "source": [
        "#Mount GOOGLE Drive to Colab"
      ],
      "metadata": {
        "id": "LbOj9lP0I79S"
      },
      "execution_count": null,
      "outputs": []
    },
    {
      "cell_type": "code",
      "source": [
        "#Download dataset from Google Drive"
      ],
      "metadata": {
        "id": "OUt64PzPJDGQ"
      },
      "execution_count": null,
      "outputs": []
    },
    {
      "cell_type": "code",
      "source": [
        "#Unzip dataset"
      ],
      "metadata": {
        "id": "hJKj8JBdJInc"
      },
      "execution_count": null,
      "outputs": []
    },
    {
      "cell_type": "code",
      "source": [
        "#View images\n",
        "from PIL import Image\n",
        "img = Image.open('/content/images/012106.jpg_1140x855.jpg')\n",
        "img"
      ],
      "metadata": {
        "id": "AGRf1Yon62Rq"
      },
      "execution_count": null,
      "outputs": []
    },
    {
      "cell_type": "code",
      "source": [
        "#View the XML corresponding to the image\n",
        "! cat /content/labels/012106.jpg_1140x855.xml"
      ],
      "metadata": {
        "id": "aZQ86wVP63-s"
      },
      "execution_count": null,
      "outputs": []
    },
    {
      "cell_type": "code",
      "source": [
        "#Create \"YOLO\" directory"
      ],
      "metadata": {
        "id": "8k8CJiKp64mw"
      },
      "execution_count": null,
      "outputs": []
    },
    {
      "cell_type": "code",
      "source": [
        "from bs4 import BeautifulSoup\n",
        "import os\n",
        "import shutil\n",
        "\n",
        "#Build status_dic\n",
        "status_dic = {'good': 2, 'bad': 1, 'none': 0}\n",
        "\n",
        "#Read xml\n",
        "def getYoloFormat(filename,label_path, img_path, yolo_path, newname):\n",
        "    with open(label_path+ filename, 'r') as f:\n",
        "        soup = BeautifulSoup(f.read(), 'xml')\n",
        "        imgname = soup.select_one('filename').text\n",
        "        image_w = int(soup.select_one('width').text)\n",
        "        image_h = int(soup.select_one('height').text)\n",
        "        ary = []\n",
        "        #Get xmin, xmax, ymin, ymax and transform by status_dic\n",
        "\n",
        "        for obj in soup.select('object'):\n",
        "            xmin = int(obj.select_one('xmin').text)\n",
        "            xmax = int(obj.select_one('xmax').text)\n",
        "            ymin = int(obj.select_one('ymin').text)\n",
        "            ymax = int(obj.select_one('ymax').text)\n",
        "            objclass = status_dic.get(obj.select_one('name').text)\n",
        "        #Change to YOLO format\n",
        "            x = (xmin + (xmax-xmin)/2) * 1.0 / image_w\n",
        "            y = (ymin + (ymax-ymin)/2) * 1.0 / image_h\n",
        "            w = (xmax-xmin) * 1.0 / image_w\n",
        "            h = (ymax-ymin) * 1.0 / image_h\n",
        "            ary.append(' '.join([str(objclass), str(x),str(y),str(w),str(h)]))\n",
        "        #Move images to \"yolo\" directory, and write parameter file to \"yolo\" directory\n",
        "        if os.path.exists(img_path + imgname):\n",
        "            shutil.copyfile(img_path + imgname, yolo_path + newname + '.jpg')\n",
        "            with open(yolo_path + newname + '.txt', 'w') as f:\n",
        "                f.write('\\n'.join(ary))"
      ],
      "metadata": {
        "id": "pB7yRocy66mb"
      },
      "execution_count": null,
      "outputs": []
    },
    {
      "cell_type": "code",
      "source": [
        "import os\n",
        "#Set path\n",
        "#Write the code\n",
        "\n",
        "\n",
        "for idx, f in enumerate(os.listdir(labelpath)):\n",
        "    try:\n",
        "        #Write all images and parameter files to yolo directory through \"getYoloFormat\" function\n",
        "        #Write the code\n",
        "    except Exception as e:\n",
        "        print(e)"
      ],
      "metadata": {
        "id": "_c9aBgdc686h"
      },
      "execution_count": null,
      "outputs": []
    },
    {
      "cell_type": "code",
      "source": [
        "from PIL import Image\n",
        "import PIL\n",
        "Image.open('/content/yolo/0.jpg')"
      ],
      "metadata": {
        "id": "LDFReTTB6_dU"
      },
      "execution_count": null,
      "outputs": []
    },
    {
      "cell_type": "code",
      "source": [
        "#View one of the images"
      ],
      "metadata": {
        "id": "lAczo-In7BRj"
      },
      "execution_count": null,
      "outputs": []
    },
    {
      "cell_type": "code",
      "source": [
        "#View the corresponding label file"
      ],
      "metadata": {
        "id": "rDQoVB3rbq5d"
      },
      "execution_count": null,
      "outputs": []
    },
    {
      "cell_type": "markdown",
      "source": [
        "# **Preapare training and testing dataset**"
      ],
      "metadata": {
        "id": "Dq5_AXX7zIvO"
      }
    },
    {
      "cell_type": "code",
      "source": [
        "#Create \"cfg_mask\" directory\n"
      ],
      "metadata": {
        "id": "MrOffmNeLKNc"
      },
      "execution_count": null,
      "outputs": []
    },
    {
      "cell_type": "code",
      "source": [
        "#Take the first 80% of the data from \"/content/yolo/\" as the training dataset.\n",
        "import os\n"
      ],
      "metadata": {
        "id": "hVFyXoVdLozU"
      },
      "execution_count": null,
      "outputs": []
    },
    {
      "cell_type": "code",
      "source": [
        "with open('/content/cfg_mask/train.txt', 'w') as f:\n",
        "    #Open first 80% images and write to \"train.txt\"\n"
      ],
      "metadata": {
        "id": "2N67qU_BLuUs"
      },
      "execution_count": null,
      "outputs": []
    },
    {
      "cell_type": "code",
      "source": [
        "with open('/content/cfg_mask/test.txt', 'w') as f:\n",
        "    #The remaining 20% of the data is used for testing dataset and written to \"test.txt\"\n"
      ],
      "metadata": {
        "id": "UsUFezOILx-x"
      },
      "execution_count": null,
      "outputs": []
    },
    {
      "cell_type": "code",
      "source": [
        "#Observ train.txt and test.txt\n",
        "! head /content/cfg_mask/train.txt"
      ],
      "metadata": {
        "id": "vE0g8vxgMoXq"
      },
      "execution_count": null,
      "outputs": []
    },
    {
      "cell_type": "code",
      "source": [
        "! head /content/cfg_mask/test.txt"
      ],
      "metadata": {
        "id": "s50OXt2RZ5F0"
      },
      "execution_count": null,
      "outputs": []
    },
    {
      "cell_type": "markdown",
      "source": [
        "# **YOLOv5 執行環境設定**"
      ],
      "metadata": {
        "id": "qvqwvnU6zpRn"
      }
    },
    {
      "cell_type": "code",
      "source": [
        "#Install pytorch in Colab"
      ],
      "metadata": {
        "id": "b7NIX6nAMtHA"
      },
      "execution_count": null,
      "outputs": []
    },
    {
      "cell_type": "code",
      "source": [
        "#Download YOLOv5 model from Github"
      ],
      "metadata": {
        "id": "3EzCIaoVM5Fq"
      },
      "execution_count": null,
      "outputs": []
    },
    {
      "cell_type": "code",
      "source": [
        "#Change to \"yolov5\" directory and install requirments.txt"
      ],
      "metadata": {
        "id": "zy7hYaB-M5Mf"
      },
      "execution_count": null,
      "outputs": []
    },
    {
      "cell_type": "markdown",
      "source": [
        "# **Prepare data.yaml and yolov5m.yaml** (Create files manually instead of run code!!!!!)"
      ],
      "metadata": {
        "id": "R79u9Y8X0mUL"
      }
    },
    {
      "cell_type": "markdown",
      "source": [
        "# **Start to Train Model**"
      ],
      "metadata": {
        "id": "6yMD3anD1kq3"
      }
    },
    {
      "cell_type": "code",
      "source": [
        "#Change to yolov5 directory\n",
        "%cd '/content/yolov5'"
      ],
      "metadata": {
        "id": "tg0rl1e-OT2V"
      },
      "execution_count": null,
      "outputs": []
    },
    {
      "cell_type": "code",
      "source": [
        "#Train model"
      ],
      "metadata": {
        "id": "gavC8R5_OZ0l"
      },
      "execution_count": null,
      "outputs": []
    },
    {
      "cell_type": "markdown",
      "source": [
        "# **Detect Images**"
      ],
      "metadata": {
        "id": "nQ1B4EXD2CqD"
      }
    },
    {
      "cell_type": "code",
      "source": [
        "#Detect Images"
      ],
      "metadata": {
        "id": "OtdkZUpcOeju"
      },
      "execution_count": null,
      "outputs": []
    },
    {
      "cell_type": "code",
      "source": [
        "#Modify the path of result according to the saving path showing in the window.\n",
        "#Check result\n",
        "from PIL import Image\n",
        "Image.open('/content/yolov5/runs/detect/exp4/0.jpg')"
      ],
      "metadata": {
        "id": "i_OJ7vIROx8I"
      },
      "execution_count": null,
      "outputs": []
    }
  ]
}